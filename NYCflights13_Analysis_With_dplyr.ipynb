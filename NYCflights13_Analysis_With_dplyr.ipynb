{
  "nbformat": 4,
  "nbformat_minor": 0,
  "metadata": {
    "colab": {
      "provenance": [],
      "authorship_tag": "ABX9TyPn8yFWW9fpb1CNSA2q1L74",
      "include_colab_link": true
    },
    "kernelspec": {
      "name": "ir",
      "display_name": "R"
    },
    "language_info": {
      "name": "R"
    }
  },
  "cells": [
    {
      "cell_type": "markdown",
      "metadata": {
        "id": "view-in-github",
        "colab_type": "text"
      },
      "source": [
        "<a href=\"https://colab.research.google.com/github/Mvrkery/Data-Science-Bootcamp-Projects/blob/main/NYCflights13_Analysis_With_dplyr.ipynb\" target=\"_parent\"><img src=\"https://colab.research.google.com/assets/colab-badge.svg\" alt=\"Open In Colab\"/></a>"
      ]
    },
    {
      "cell_type": "code",
      "execution_count": null,
      "metadata": {
        "colab": {
          "base_uri": "https://localhost:8080/",
          "height": 1000
        },
        "id": "5vJeg7eQ3zkt",
        "outputId": "91e11dd7-2b83-4372-94ee-c5f122890450"
      },
      "outputs": [
        {
          "output_type": "stream",
          "name": "stderr",
          "text": [
            "Installing package into ‘/usr/local/lib/R/site-library’\n",
            "(as ‘lib’ is unspecified)\n",
            "\n",
            "\n",
            "Attaching package: ‘dplyr’\n",
            "\n",
            "\n",
            "The following objects are masked from ‘package:stats’:\n",
            "\n",
            "    filter, lag\n",
            "\n",
            "\n",
            "The following objects are masked from ‘package:base’:\n",
            "\n",
            "    intersect, setdiff, setequal, union\n",
            "\n",
            "\n"
          ]
        },
        {
          "output_type": "stream",
          "name": "stdout",
          "text": [
            "Rows: 336,776\n",
            "Columns: 19\n",
            "$ year           \u001b[3m\u001b[90m<int>\u001b[39m\u001b[23m 2013, 2013, 2013, 2013, 2013, 2013, 2013, 2013, 2013, 2…\n",
            "$ month          \u001b[3m\u001b[90m<int>\u001b[39m\u001b[23m 1, 1, 1, 1, 1, 1, 1, 1, 1, 1, 1, 1, 1, 1, 1, 1, 1, 1, 1…\n",
            "$ day            \u001b[3m\u001b[90m<int>\u001b[39m\u001b[23m 1, 1, 1, 1, 1, 1, 1, 1, 1, 1, 1, 1, 1, 1, 1, 1, 1, 1, 1…\n",
            "$ dep_time       \u001b[3m\u001b[90m<int>\u001b[39m\u001b[23m 517, 533, 542, 544, 554, 554, 555, 557, 557, 558, 558, …\n",
            "$ sched_dep_time \u001b[3m\u001b[90m<int>\u001b[39m\u001b[23m 515, 529, 540, 545, 600, 558, 600, 600, 600, 600, 600, …\n",
            "$ dep_delay      \u001b[3m\u001b[90m<dbl>\u001b[39m\u001b[23m 2, 4, 2, -1, -6, -4, -5, -3, -3, -2, -2, -2, -2, -2, -1…\n",
            "$ arr_time       \u001b[3m\u001b[90m<int>\u001b[39m\u001b[23m 830, 850, 923, 1004, 812, 740, 913, 709, 838, 753, 849,…\n",
            "$ sched_arr_time \u001b[3m\u001b[90m<int>\u001b[39m\u001b[23m 819, 830, 850, 1022, 837, 728, 854, 723, 846, 745, 851,…\n",
            "$ arr_delay      \u001b[3m\u001b[90m<dbl>\u001b[39m\u001b[23m 11, 20, 33, -18, -25, 12, 19, -14, -8, 8, -2, -3, 7, -1…\n",
            "$ carrier        \u001b[3m\u001b[90m<chr>\u001b[39m\u001b[23m \"UA\", \"UA\", \"AA\", \"B6\", \"DL\", \"UA\", \"B6\", \"EV\", \"B6\", \"…\n",
            "$ flight         \u001b[3m\u001b[90m<int>\u001b[39m\u001b[23m 1545, 1714, 1141, 725, 461, 1696, 507, 5708, 79, 301, 4…\n",
            "$ tailnum        \u001b[3m\u001b[90m<chr>\u001b[39m\u001b[23m \"N14228\", \"N24211\", \"N619AA\", \"N804JB\", \"N668DN\", \"N394…\n",
            "$ origin         \u001b[3m\u001b[90m<chr>\u001b[39m\u001b[23m \"EWR\", \"LGA\", \"JFK\", \"JFK\", \"LGA\", \"EWR\", \"EWR\", \"LGA\",…\n",
            "$ dest           \u001b[3m\u001b[90m<chr>\u001b[39m\u001b[23m \"IAH\", \"IAH\", \"MIA\", \"BQN\", \"ATL\", \"ORD\", \"FLL\", \"IAD\",…\n",
            "$ air_time       \u001b[3m\u001b[90m<dbl>\u001b[39m\u001b[23m 227, 227, 160, 183, 116, 150, 158, 53, 140, 138, 149, 1…\n",
            "$ distance       \u001b[3m\u001b[90m<dbl>\u001b[39m\u001b[23m 1400, 1416, 1089, 1576, 762, 719, 1065, 229, 944, 733, …\n",
            "$ hour           \u001b[3m\u001b[90m<dbl>\u001b[39m\u001b[23m 5, 5, 5, 5, 6, 5, 6, 6, 6, 6, 6, 6, 6, 6, 6, 5, 6, 6, 6…\n",
            "$ minute         \u001b[3m\u001b[90m<dbl>\u001b[39m\u001b[23m 15, 29, 40, 45, 0, 58, 0, 0, 0, 0, 0, 0, 0, 0, 0, 59, 0…\n",
            "$ time_hour      \u001b[3m\u001b[90m<dttm>\u001b[39m\u001b[23m 2013-01-01 05:00:00, 2013-01-01 05:00:00, 2013-01-01 0…\n"
          ]
        },
        {
          "output_type": "display_data",
          "data": {
            "text/html": [
              "<table class=\"dataframe\">\n",
              "<caption>A tibble: 6 × 19</caption>\n",
              "<thead>\n",
              "\t<tr><th scope=col>year</th><th scope=col>month</th><th scope=col>day</th><th scope=col>dep_time</th><th scope=col>sched_dep_time</th><th scope=col>dep_delay</th><th scope=col>arr_time</th><th scope=col>sched_arr_time</th><th scope=col>arr_delay</th><th scope=col>carrier</th><th scope=col>flight</th><th scope=col>tailnum</th><th scope=col>origin</th><th scope=col>dest</th><th scope=col>air_time</th><th scope=col>distance</th><th scope=col>hour</th><th scope=col>minute</th><th scope=col>time_hour</th></tr>\n",
              "\t<tr><th scope=col>&lt;int&gt;</th><th scope=col>&lt;int&gt;</th><th scope=col>&lt;int&gt;</th><th scope=col>&lt;int&gt;</th><th scope=col>&lt;int&gt;</th><th scope=col>&lt;dbl&gt;</th><th scope=col>&lt;int&gt;</th><th scope=col>&lt;int&gt;</th><th scope=col>&lt;dbl&gt;</th><th scope=col>&lt;chr&gt;</th><th scope=col>&lt;int&gt;</th><th scope=col>&lt;chr&gt;</th><th scope=col>&lt;chr&gt;</th><th scope=col>&lt;chr&gt;</th><th scope=col>&lt;dbl&gt;</th><th scope=col>&lt;dbl&gt;</th><th scope=col>&lt;dbl&gt;</th><th scope=col>&lt;dbl&gt;</th><th scope=col>&lt;dttm&gt;</th></tr>\n",
              "</thead>\n",
              "<tbody>\n",
              "\t<tr><td>2013</td><td>1</td><td>1</td><td>517</td><td>515</td><td> 2</td><td> 830</td><td> 819</td><td> 11</td><td>UA</td><td>1545</td><td>N14228</td><td>EWR</td><td>IAH</td><td>227</td><td>1400</td><td>5</td><td>15</td><td>2013-01-01 05:00:00</td></tr>\n",
              "\t<tr><td>2013</td><td>1</td><td>1</td><td>533</td><td>529</td><td> 4</td><td> 850</td><td> 830</td><td> 20</td><td>UA</td><td>1714</td><td>N24211</td><td>LGA</td><td>IAH</td><td>227</td><td>1416</td><td>5</td><td>29</td><td>2013-01-01 05:00:00</td></tr>\n",
              "\t<tr><td>2013</td><td>1</td><td>1</td><td>542</td><td>540</td><td> 2</td><td> 923</td><td> 850</td><td> 33</td><td>AA</td><td>1141</td><td>N619AA</td><td>JFK</td><td>MIA</td><td>160</td><td>1089</td><td>5</td><td>40</td><td>2013-01-01 05:00:00</td></tr>\n",
              "\t<tr><td>2013</td><td>1</td><td>1</td><td>544</td><td>545</td><td>-1</td><td>1004</td><td>1022</td><td>-18</td><td>B6</td><td> 725</td><td>N804JB</td><td>JFK</td><td>BQN</td><td>183</td><td>1576</td><td>5</td><td>45</td><td>2013-01-01 05:00:00</td></tr>\n",
              "\t<tr><td>2013</td><td>1</td><td>1</td><td>554</td><td>600</td><td>-6</td><td> 812</td><td> 837</td><td>-25</td><td>DL</td><td> 461</td><td>N668DN</td><td>LGA</td><td>ATL</td><td>116</td><td> 762</td><td>6</td><td> 0</td><td>2013-01-01 06:00:00</td></tr>\n",
              "\t<tr><td>2013</td><td>1</td><td>1</td><td>554</td><td>558</td><td>-4</td><td> 740</td><td> 728</td><td> 12</td><td>UA</td><td>1696</td><td>N39463</td><td>EWR</td><td>ORD</td><td>150</td><td> 719</td><td>5</td><td>58</td><td>2013-01-01 05:00:00</td></tr>\n",
              "</tbody>\n",
              "</table>\n"
            ],
            "text/markdown": "\nA tibble: 6 × 19\n\n| year &lt;int&gt; | month &lt;int&gt; | day &lt;int&gt; | dep_time &lt;int&gt; | sched_dep_time &lt;int&gt; | dep_delay &lt;dbl&gt; | arr_time &lt;int&gt; | sched_arr_time &lt;int&gt; | arr_delay &lt;dbl&gt; | carrier &lt;chr&gt; | flight &lt;int&gt; | tailnum &lt;chr&gt; | origin &lt;chr&gt; | dest &lt;chr&gt; | air_time &lt;dbl&gt; | distance &lt;dbl&gt; | hour &lt;dbl&gt; | minute &lt;dbl&gt; | time_hour &lt;dttm&gt; |\n|---|---|---|---|---|---|---|---|---|---|---|---|---|---|---|---|---|---|---|\n| 2013 | 1 | 1 | 517 | 515 |  2 |  830 |  819 |  11 | UA | 1545 | N14228 | EWR | IAH | 227 | 1400 | 5 | 15 | 2013-01-01 05:00:00 |\n| 2013 | 1 | 1 | 533 | 529 |  4 |  850 |  830 |  20 | UA | 1714 | N24211 | LGA | IAH | 227 | 1416 | 5 | 29 | 2013-01-01 05:00:00 |\n| 2013 | 1 | 1 | 542 | 540 |  2 |  923 |  850 |  33 | AA | 1141 | N619AA | JFK | MIA | 160 | 1089 | 5 | 40 | 2013-01-01 05:00:00 |\n| 2013 | 1 | 1 | 544 | 545 | -1 | 1004 | 1022 | -18 | B6 |  725 | N804JB | JFK | BQN | 183 | 1576 | 5 | 45 | 2013-01-01 05:00:00 |\n| 2013 | 1 | 1 | 554 | 600 | -6 |  812 |  837 | -25 | DL |  461 | N668DN | LGA | ATL | 116 |  762 | 6 |  0 | 2013-01-01 06:00:00 |\n| 2013 | 1 | 1 | 554 | 558 | -4 |  740 |  728 |  12 | UA | 1696 | N39463 | EWR | ORD | 150 |  719 | 5 | 58 | 2013-01-01 05:00:00 |\n\n",
            "text/latex": "A tibble: 6 × 19\n\\begin{tabular}{lllllllllllllllllll}\n year & month & day & dep\\_time & sched\\_dep\\_time & dep\\_delay & arr\\_time & sched\\_arr\\_time & arr\\_delay & carrier & flight & tailnum & origin & dest & air\\_time & distance & hour & minute & time\\_hour\\\\\n <int> & <int> & <int> & <int> & <int> & <dbl> & <int> & <int> & <dbl> & <chr> & <int> & <chr> & <chr> & <chr> & <dbl> & <dbl> & <dbl> & <dbl> & <dttm>\\\\\n\\hline\n\t 2013 & 1 & 1 & 517 & 515 &  2 &  830 &  819 &  11 & UA & 1545 & N14228 & EWR & IAH & 227 & 1400 & 5 & 15 & 2013-01-01 05:00:00\\\\\n\t 2013 & 1 & 1 & 533 & 529 &  4 &  850 &  830 &  20 & UA & 1714 & N24211 & LGA & IAH & 227 & 1416 & 5 & 29 & 2013-01-01 05:00:00\\\\\n\t 2013 & 1 & 1 & 542 & 540 &  2 &  923 &  850 &  33 & AA & 1141 & N619AA & JFK & MIA & 160 & 1089 & 5 & 40 & 2013-01-01 05:00:00\\\\\n\t 2013 & 1 & 1 & 544 & 545 & -1 & 1004 & 1022 & -18 & B6 &  725 & N804JB & JFK & BQN & 183 & 1576 & 5 & 45 & 2013-01-01 05:00:00\\\\\n\t 2013 & 1 & 1 & 554 & 600 & -6 &  812 &  837 & -25 & DL &  461 & N668DN & LGA & ATL & 116 &  762 & 6 &  0 & 2013-01-01 06:00:00\\\\\n\t 2013 & 1 & 1 & 554 & 558 & -4 &  740 &  728 &  12 & UA & 1696 & N39463 & EWR & ORD & 150 &  719 & 5 & 58 & 2013-01-01 05:00:00\\\\\n\\end{tabular}\n",
            "text/plain": [
              "  year month day dep_time sched_dep_time dep_delay arr_time sched_arr_time\n",
              "1 2013 1     1   517      515             2         830      819          \n",
              "2 2013 1     1   533      529             4         850      830          \n",
              "3 2013 1     1   542      540             2         923      850          \n",
              "4 2013 1     1   544      545            -1        1004     1022          \n",
              "5 2013 1     1   554      600            -6         812      837          \n",
              "6 2013 1     1   554      558            -4         740      728          \n",
              "  arr_delay carrier flight tailnum origin dest air_time distance hour minute\n",
              "1  11       UA      1545   N14228  EWR    IAH  227      1400     5    15    \n",
              "2  20       UA      1714   N24211  LGA    IAH  227      1416     5    29    \n",
              "3  33       AA      1141   N619AA  JFK    MIA  160      1089     5    40    \n",
              "4 -18       B6       725   N804JB  JFK    BQN  183      1576     5    45    \n",
              "5 -25       DL       461   N668DN  LGA    ATL  116       762     6     0    \n",
              "6  12       UA      1696   N39463  EWR    ORD  150       719     5    58    \n",
              "  time_hour          \n",
              "1 2013-01-01 05:00:00\n",
              "2 2013-01-01 05:00:00\n",
              "3 2013-01-01 05:00:00\n",
              "4 2013-01-01 05:00:00\n",
              "5 2013-01-01 06:00:00\n",
              "6 2013-01-01 05:00:00"
            ]
          },
          "metadata": {}
        },
        {
          "output_type": "stream",
          "name": "stdout",
          "text": [
            "Rows: 16\n",
            "Columns: 2\n",
            "$ carrier \u001b[3m\u001b[90m<chr>\u001b[39m\u001b[23m \"9E\", \"AA\", \"AS\", \"B6\", \"DL\", \"EV\", \"F9\", \"FL\", \"HA\", \"MQ\", \"O…\n",
            "$ name    \u001b[3m\u001b[90m<chr>\u001b[39m\u001b[23m \"Endeavor Air Inc.\", \"American Airlines Inc.\", \"Alaska Airline…\n"
          ]
        },
        {
          "output_type": "display_data",
          "data": {
            "text/html": [
              "<table class=\"dataframe\">\n",
              "<caption>A tibble: 6 × 2</caption>\n",
              "<thead>\n",
              "\t<tr><th scope=col>carrier</th><th scope=col>name</th></tr>\n",
              "\t<tr><th scope=col>&lt;chr&gt;</th><th scope=col>&lt;chr&gt;</th></tr>\n",
              "</thead>\n",
              "<tbody>\n",
              "\t<tr><td>9E</td><td>Endeavor Air Inc.       </td></tr>\n",
              "\t<tr><td>AA</td><td>American Airlines Inc.  </td></tr>\n",
              "\t<tr><td>AS</td><td>Alaska Airlines Inc.    </td></tr>\n",
              "\t<tr><td>B6</td><td>JetBlue Airways         </td></tr>\n",
              "\t<tr><td>DL</td><td>Delta Air Lines Inc.    </td></tr>\n",
              "\t<tr><td>EV</td><td>ExpressJet Airlines Inc.</td></tr>\n",
              "</tbody>\n",
              "</table>\n"
            ],
            "text/markdown": "\nA tibble: 6 × 2\n\n| carrier &lt;chr&gt; | name &lt;chr&gt; |\n|---|---|\n| 9E | Endeavor Air Inc.        |\n| AA | American Airlines Inc.   |\n| AS | Alaska Airlines Inc.     |\n| B6 | JetBlue Airways          |\n| DL | Delta Air Lines Inc.     |\n| EV | ExpressJet Airlines Inc. |\n\n",
            "text/latex": "A tibble: 6 × 2\n\\begin{tabular}{ll}\n carrier & name\\\\\n <chr> & <chr>\\\\\n\\hline\n\t 9E & Endeavor Air Inc.       \\\\\n\t AA & American Airlines Inc.  \\\\\n\t AS & Alaska Airlines Inc.    \\\\\n\t B6 & JetBlue Airways         \\\\\n\t DL & Delta Air Lines Inc.    \\\\\n\t EV & ExpressJet Airlines Inc.\\\\\n\\end{tabular}\n",
            "text/plain": [
              "  carrier name                    \n",
              "1 9E      Endeavor Air Inc.       \n",
              "2 AA      American Airlines Inc.  \n",
              "3 AS      Alaska Airlines Inc.    \n",
              "4 B6      JetBlue Airways         \n",
              "5 DL      Delta Air Lines Inc.    \n",
              "6 EV      ExpressJet Airlines Inc."
            ]
          },
          "metadata": {}
        },
        {
          "output_type": "stream",
          "name": "stdout",
          "text": [
            "Total number of flights: 336776 \n",
            "[1] \"TOP 5 Popular Airlines in The First Quarter Of 2013\"\n"
          ]
        },
        {
          "output_type": "display_data",
          "data": {
            "text/plain": [
              "  carrier n     name                    \n",
              "1 UA      13954 United Air Lines Inc.   \n",
              "2 B6      13302 JetBlue Airways         \n",
              "3 EV      12724 ExpressJet Airlines Inc.\n",
              "4 DL      11323 Delta Air Lines Inc.    \n",
              "5 AA       8098 American Airlines Inc.  "
            ],
            "text/html": [
              "<table class=\"dataframe\">\n",
              "<caption>A tibble: 5 × 3</caption>\n",
              "<thead>\n",
              "\t<tr><th scope=col>carrier</th><th scope=col>n</th><th scope=col>name</th></tr>\n",
              "\t<tr><th scope=col>&lt;chr&gt;</th><th scope=col>&lt;int&gt;</th><th scope=col>&lt;chr&gt;</th></tr>\n",
              "</thead>\n",
              "<tbody>\n",
              "\t<tr><td>UA</td><td>13954</td><td>United Air Lines Inc.   </td></tr>\n",
              "\t<tr><td>B6</td><td>13302</td><td>JetBlue Airways         </td></tr>\n",
              "\t<tr><td>EV</td><td>12724</td><td>ExpressJet Airlines Inc.</td></tr>\n",
              "\t<tr><td>DL</td><td>11323</td><td>Delta Air Lines Inc.    </td></tr>\n",
              "\t<tr><td>AA</td><td> 8098</td><td>American Airlines Inc.  </td></tr>\n",
              "</tbody>\n",
              "</table>\n"
            ],
            "text/markdown": "\nA tibble: 5 × 3\n\n| carrier &lt;chr&gt; | n &lt;int&gt; | name &lt;chr&gt; |\n|---|---|---|\n| UA | 13954 | United Air Lines Inc.    |\n| B6 | 13302 | JetBlue Airways          |\n| EV | 12724 | ExpressJet Airlines Inc. |\n| DL | 11323 | Delta Air Lines Inc.     |\n| AA |  8098 | American Airlines Inc.   |\n\n",
            "text/latex": "A tibble: 5 × 3\n\\begin{tabular}{lll}\n carrier & n & name\\\\\n <chr> & <int> & <chr>\\\\\n\\hline\n\t UA & 13954 & United Air Lines Inc.   \\\\\n\t B6 & 13302 & JetBlue Airways         \\\\\n\t EV & 12724 & ExpressJet Airlines Inc.\\\\\n\t DL & 11323 & Delta Air Lines Inc.    \\\\\n\t AA &  8098 & American Airlines Inc.  \\\\\n\\end{tabular}\n"
          },
          "metadata": {}
        },
        {
          "output_type": "stream",
          "name": "stdout",
          "text": [
            "[1] \"Popular Airlines Of 2013\"\n"
          ]
        },
        {
          "output_type": "display_data",
          "data": {
            "text/plain": [
              "  carrier n     name                    \n",
              "1 UA      58665 United Air Lines Inc.   \n",
              "2 B6      54635 JetBlue Airways         \n",
              "3 EV      54173 ExpressJet Airlines Inc.\n",
              "4 DL      48110 Delta Air Lines Inc.    \n",
              "5 AA      32729 American Airlines Inc.  "
            ],
            "text/html": [
              "<table class=\"dataframe\">\n",
              "<caption>A tibble: 5 × 3</caption>\n",
              "<thead>\n",
              "\t<tr><th scope=col>carrier</th><th scope=col>n</th><th scope=col>name</th></tr>\n",
              "\t<tr><th scope=col>&lt;chr&gt;</th><th scope=col>&lt;int&gt;</th><th scope=col>&lt;chr&gt;</th></tr>\n",
              "</thead>\n",
              "<tbody>\n",
              "\t<tr><td>UA</td><td>58665</td><td>United Air Lines Inc.   </td></tr>\n",
              "\t<tr><td>B6</td><td>54635</td><td>JetBlue Airways         </td></tr>\n",
              "\t<tr><td>EV</td><td>54173</td><td>ExpressJet Airlines Inc.</td></tr>\n",
              "\t<tr><td>DL</td><td>48110</td><td>Delta Air Lines Inc.    </td></tr>\n",
              "\t<tr><td>AA</td><td>32729</td><td>American Airlines Inc.  </td></tr>\n",
              "</tbody>\n",
              "</table>\n"
            ],
            "text/markdown": "\nA tibble: 5 × 3\n\n| carrier &lt;chr&gt; | n &lt;int&gt; | name &lt;chr&gt; |\n|---|---|---|\n| UA | 58665 | United Air Lines Inc.    |\n| B6 | 54635 | JetBlue Airways          |\n| EV | 54173 | ExpressJet Airlines Inc. |\n| DL | 48110 | Delta Air Lines Inc.     |\n| AA | 32729 | American Airlines Inc.   |\n\n",
            "text/latex": "A tibble: 5 × 3\n\\begin{tabular}{lll}\n carrier & n & name\\\\\n <chr> & <int> & <chr>\\\\\n\\hline\n\t UA & 58665 & United Air Lines Inc.   \\\\\n\t B6 & 54635 & JetBlue Airways         \\\\\n\t EV & 54173 & ExpressJet Airlines Inc.\\\\\n\t DL & 48110 & Delta Air Lines Inc.    \\\\\n\t AA & 32729 & American Airlines Inc.  \\\\\n\\end{tabular}\n"
          },
          "metadata": {}
        },
        {
          "output_type": "stream",
          "name": "stdout",
          "text": [
            "[1] \"The Average Departure Delay\"\n"
          ]
        },
        {
          "output_type": "display_data",
          "data": {
            "text/plain": [
              "   carrier avg_delay\n",
              "1  F9      20.215543\n",
              "2  EV      19.955390\n",
              "3  YV      18.996330\n",
              "4  FL      18.726075\n",
              "5  WN      17.711744\n",
              "6  9E      16.725769\n",
              "7  B6      13.022522\n",
              "8  VX      12.869421\n",
              "9  OO      12.586207\n",
              "10 UA      12.106073\n",
              "11 MQ      10.552041\n",
              "12 DL       9.264505\n",
              "13 AA       8.586016\n",
              "14 AS       5.804775\n",
              "15 HA       4.900585\n",
              "16 US       3.782418"
            ],
            "text/html": [
              "<table class=\"dataframe\">\n",
              "<caption>A tibble: 16 × 2</caption>\n",
              "<thead>\n",
              "\t<tr><th scope=col>carrier</th><th scope=col>avg_delay</th></tr>\n",
              "\t<tr><th scope=col>&lt;chr&gt;</th><th scope=col>&lt;dbl&gt;</th></tr>\n",
              "</thead>\n",
              "<tbody>\n",
              "\t<tr><td>F9</td><td>20.215543</td></tr>\n",
              "\t<tr><td>EV</td><td>19.955390</td></tr>\n",
              "\t<tr><td>YV</td><td>18.996330</td></tr>\n",
              "\t<tr><td>FL</td><td>18.726075</td></tr>\n",
              "\t<tr><td>WN</td><td>17.711744</td></tr>\n",
              "\t<tr><td>9E</td><td>16.725769</td></tr>\n",
              "\t<tr><td>B6</td><td>13.022522</td></tr>\n",
              "\t<tr><td>VX</td><td>12.869421</td></tr>\n",
              "\t<tr><td>OO</td><td>12.586207</td></tr>\n",
              "\t<tr><td>UA</td><td>12.106073</td></tr>\n",
              "\t<tr><td>MQ</td><td>10.552041</td></tr>\n",
              "\t<tr><td>DL</td><td> 9.264505</td></tr>\n",
              "\t<tr><td>AA</td><td> 8.586016</td></tr>\n",
              "\t<tr><td>AS</td><td> 5.804775</td></tr>\n",
              "\t<tr><td>HA</td><td> 4.900585</td></tr>\n",
              "\t<tr><td>US</td><td> 3.782418</td></tr>\n",
              "</tbody>\n",
              "</table>\n"
            ],
            "text/markdown": "\nA tibble: 16 × 2\n\n| carrier &lt;chr&gt; | avg_delay &lt;dbl&gt; |\n|---|---|\n| F9 | 20.215543 |\n| EV | 19.955390 |\n| YV | 18.996330 |\n| FL | 18.726075 |\n| WN | 17.711744 |\n| 9E | 16.725769 |\n| B6 | 13.022522 |\n| VX | 12.869421 |\n| OO | 12.586207 |\n| UA | 12.106073 |\n| MQ | 10.552041 |\n| DL |  9.264505 |\n| AA |  8.586016 |\n| AS |  5.804775 |\n| HA |  4.900585 |\n| US |  3.782418 |\n\n",
            "text/latex": "A tibble: 16 × 2\n\\begin{tabular}{ll}\n carrier & avg\\_delay\\\\\n <chr> & <dbl>\\\\\n\\hline\n\t F9 & 20.215543\\\\\n\t EV & 19.955390\\\\\n\t YV & 18.996330\\\\\n\t FL & 18.726075\\\\\n\t WN & 17.711744\\\\\n\t 9E & 16.725769\\\\\n\t B6 & 13.022522\\\\\n\t VX & 12.869421\\\\\n\t OO & 12.586207\\\\\n\t UA & 12.106073\\\\\n\t MQ & 10.552041\\\\\n\t DL &  9.264505\\\\\n\t AA &  8.586016\\\\\n\t AS &  5.804775\\\\\n\t HA &  4.900585\\\\\n\t US &  3.782418\\\\\n\\end{tabular}\n"
          },
          "metadata": {}
        },
        {
          "output_type": "stream",
          "name": "stdout",
          "text": [
            "[1] \"Find the top 5 destinations with the most flights\"\n"
          ]
        },
        {
          "output_type": "display_data",
          "data": {
            "text/plain": [
              "  dest total_flights\n",
              "1 ORD  17283        \n",
              "2 ATL  17215        \n",
              "3 LAX  16174        \n",
              "4 BOS  15508        \n",
              "5 MCO  14082        "
            ],
            "text/html": [
              "<table class=\"dataframe\">\n",
              "<caption>A tibble: 5 × 2</caption>\n",
              "<thead>\n",
              "\t<tr><th scope=col>dest</th><th scope=col>total_flights</th></tr>\n",
              "\t<tr><th scope=col>&lt;chr&gt;</th><th scope=col>&lt;int&gt;</th></tr>\n",
              "</thead>\n",
              "<tbody>\n",
              "\t<tr><td>ORD</td><td>17283</td></tr>\n",
              "\t<tr><td>ATL</td><td>17215</td></tr>\n",
              "\t<tr><td>LAX</td><td>16174</td></tr>\n",
              "\t<tr><td>BOS</td><td>15508</td></tr>\n",
              "\t<tr><td>MCO</td><td>14082</td></tr>\n",
              "</tbody>\n",
              "</table>\n"
            ],
            "text/markdown": "\nA tibble: 5 × 2\n\n| dest &lt;chr&gt; | total_flights &lt;int&gt; |\n|---|---|\n| ORD | 17283 |\n| ATL | 17215 |\n| LAX | 16174 |\n| BOS | 15508 |\n| MCO | 14082 |\n\n",
            "text/latex": "A tibble: 5 × 2\n\\begin{tabular}{ll}\n dest & total\\_flights\\\\\n <chr> & <int>\\\\\n\\hline\n\t ORD & 17283\\\\\n\t ATL & 17215\\\\\n\t LAX & 16174\\\\\n\t BOS & 15508\\\\\n\t MCO & 14082\\\\\n\\end{tabular}\n"
          },
          "metadata": {}
        }
      ],
      "source": [
        "# Load The Required Libraries\n",
        "install.packages(\"nycflights13\")\n",
        "library(nycflights13)\n",
        "library(dplyr)\n",
        "\n",
        "# View The First Few Rows Of The Flights Dataset\n",
        "glimpse(flights)\n",
        "head(flights)\n",
        "\n",
        "glimpse(airlines)\n",
        "head(airlines)\n",
        "\n",
        "# Total Number Of Flights\n",
        "total_flights <- flights %>%\n",
        "  nrow()\n",
        "cat(\"Total number of flights:\", total_flights, \"\\n\")\n",
        "\n",
        "# TOP 5 Popular Airlines For The First Quarter Of 2013\n",
        "print(\"TOP 5 Popular Airlines in The First Quarter Of 2013\")\n",
        "q1_2013 <- flights %>%\n",
        "  filter(year == 2013 & month >= 1 & month <= 3) %>%\n",
        "  count(carrier) %>%\n",
        "  arrange(-n)%>%\n",
        "  head(5)%>%\n",
        "  left_join(airlines, by = \"carrier\")\n",
        "  View(q1_2013)\n",
        "\n",
        "# Popular Airlines Of 2013\n",
        "print(\"Popular Airlines Of 2013\")\n",
        "all_2013 <- flights %>%\n",
        "  filter(year == 2013 & month >= 1 & month <= 12) %>%\n",
        "  count(carrier) %>%\n",
        "  arrange(-n)%>%\n",
        "  head(5)%>%\n",
        "  left_join(airlines, by = \"carrier\")\n",
        "  View(all_2013)\n",
        "\n",
        "# The Average Departure Delay\n",
        "print(\"The Average Departure Delay\")\n",
        "average_delay_by_carrier <- flights %>%\n",
        "  group_by(carrier) %>%\n",
        "  summarize(avg_delay = mean(dep_delay, na.rm = TRUE))%>%\n",
        "  arrange(desc(avg_delay))\n",
        " View(average_delay_by_carrier)\n",
        "\n",
        "# Find the top 5 destinations with the most flights\n",
        "print(\"Find the top 5 destinations with the most flights\")\n",
        "top_destinations <- flights %>%\n",
        "  group_by(dest) %>%\n",
        "  summarize(total_flights = n()) %>%\n",
        "  arrange(desc(total_flights)) %>%\n",
        "  head(5)\n",
        "View(top_destinations)\n"
      ]
    }
  ]
}