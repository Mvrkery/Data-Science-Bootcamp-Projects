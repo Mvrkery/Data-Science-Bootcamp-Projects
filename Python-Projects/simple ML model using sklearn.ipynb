{
 "cells":[
  {
   "cell_type":"markdown",
   "source":[
    "# **Import**"
   ],
   "attachments":{
    
   },
   "metadata":{
    "datalore":{
     "node_id":"TUlenPQzsk3zW1yz90e7Q4",
     "type":"MD",
     "hide_input_from_viewers":true,
     "hide_output_from_viewers":true
    }
   }
  },
  {
   "cell_type":"code",
   "source":[
    "import numpy as np\n",
    "import pandas as pd\n",
    "from sklearn.linear_model import LinearRegression\n",
    "from sklearn.tree import DecisionTreeRegressor\n",
    "from sklearn.ensemble import RandomForestClassifier\n",
    "from sklearn.ensemble import RandomForestRegressor\n",
    "from sklearn.model_selection import train_test_split\n",
    "from sklearn.metrics import mean_squared_error, r2_score,mean_absolute_error"
   ],
   "execution_count":12,
   "outputs":[
    
   ],
   "metadata":{
    "datalore":{
     "node_id":"AY8GN2sZIxFtUZoxv3y9WD",
     "type":"CODE",
     "hide_input_from_viewers":true,
     "hide_output_from_viewers":true
    }
   }
  },
  {
   "cell_type":"markdown",
   "source":[
    "# **Data**"
   ],
   "attachments":{
    
   },
   "metadata":{
    "datalore":{
     "node_id":"ruY8TKlngiK3h1iZbFQyMh",
     "type":"MD",
     "hide_input_from_viewers":true,
     "hide_output_from_viewers":true
    }
   }
  },
  {
   "cell_type":"code",
   "source":[
    "mtcars = pd.read_csv(\"https:\/\/gist.githubusercontent.com\/seankross\/a412dfbd88b3db70b74b\/raw\/5f23f993cd87c283ce766e7ac6b329ee7cc2e1d1\/mtcars.csv\")\n",
    "mtcars.head()"
   ],
   "execution_count":13,
   "outputs":[
    {
     "data":{
      "text\/html":[
       "<div>\n",
       "<style scoped>\n",
       "    .dataframe tbody tr th:only-of-type {\n",
       "        vertical-align: middle;\n",
       "    }\n",
       "\n",
       "    .dataframe tbody tr th {\n",
       "        vertical-align: top;\n",
       "    }\n",
       "\n",
       "    .dataframe thead th {\n",
       "        text-align: right;\n",
       "    }\n",
       "<\/style>\n",
       "<table border=\"1\" class=\"dataframe\">\n",
       "  <thead>\n",
       "    <tr style=\"text-align: right;\">\n",
       "      <th><\/th>\n",
       "      <th>model<\/th>\n",
       "      <th>mpg<\/th>\n",
       "      <th>cyl<\/th>\n",
       "      <th>disp<\/th>\n",
       "      <th>hp<\/th>\n",
       "      <th>drat<\/th>\n",
       "      <th>wt<\/th>\n",
       "      <th>qsec<\/th>\n",
       "      <th>vs<\/th>\n",
       "      <th>am<\/th>\n",
       "      <th>gear<\/th>\n",
       "      <th>carb<\/th>\n",
       "    <\/tr>\n",
       "  <\/thead>\n",
       "  <tbody>\n",
       "    <tr>\n",
       "      <th>0<\/th>\n",
       "      <td>Mazda RX4<\/td>\n",
       "      <td>21.0<\/td>\n",
       "      <td>6<\/td>\n",
       "      <td>160.0<\/td>\n",
       "      <td>110<\/td>\n",
       "      <td>3.90<\/td>\n",
       "      <td>2.620<\/td>\n",
       "      <td>16.46<\/td>\n",
       "      <td>0<\/td>\n",
       "      <td>1<\/td>\n",
       "      <td>4<\/td>\n",
       "      <td>4<\/td>\n",
       "    <\/tr>\n",
       "    <tr>\n",
       "      <th>1<\/th>\n",
       "      <td>Mazda RX4 Wag<\/td>\n",
       "      <td>21.0<\/td>\n",
       "      <td>6<\/td>\n",
       "      <td>160.0<\/td>\n",
       "      <td>110<\/td>\n",
       "      <td>3.90<\/td>\n",
       "      <td>2.875<\/td>\n",
       "      <td>17.02<\/td>\n",
       "      <td>0<\/td>\n",
       "      <td>1<\/td>\n",
       "      <td>4<\/td>\n",
       "      <td>4<\/td>\n",
       "    <\/tr>\n",
       "    <tr>\n",
       "      <th>2<\/th>\n",
       "      <td>Datsun 710<\/td>\n",
       "      <td>22.8<\/td>\n",
       "      <td>4<\/td>\n",
       "      <td>108.0<\/td>\n",
       "      <td>93<\/td>\n",
       "      <td>3.85<\/td>\n",
       "      <td>2.320<\/td>\n",
       "      <td>18.61<\/td>\n",
       "      <td>1<\/td>\n",
       "      <td>1<\/td>\n",
       "      <td>4<\/td>\n",
       "      <td>1<\/td>\n",
       "    <\/tr>\n",
       "    <tr>\n",
       "      <th>3<\/th>\n",
       "      <td>Hornet 4 Drive<\/td>\n",
       "      <td>21.4<\/td>\n",
       "      <td>6<\/td>\n",
       "      <td>258.0<\/td>\n",
       "      <td>110<\/td>\n",
       "      <td>3.08<\/td>\n",
       "      <td>3.215<\/td>\n",
       "      <td>19.44<\/td>\n",
       "      <td>1<\/td>\n",
       "      <td>0<\/td>\n",
       "      <td>3<\/td>\n",
       "      <td>1<\/td>\n",
       "    <\/tr>\n",
       "    <tr>\n",
       "      <th>4<\/th>\n",
       "      <td>Hornet Sportabout<\/td>\n",
       "      <td>18.7<\/td>\n",
       "      <td>8<\/td>\n",
       "      <td>360.0<\/td>\n",
       "      <td>175<\/td>\n",
       "      <td>3.15<\/td>\n",
       "      <td>3.440<\/td>\n",
       "      <td>17.02<\/td>\n",
       "      <td>0<\/td>\n",
       "      <td>0<\/td>\n",
       "      <td>3<\/td>\n",
       "      <td>2<\/td>\n",
       "    <\/tr>\n",
       "  <\/tbody>\n",
       "<\/table>\n",
       "<\/div>"
      ]
     },
     "metadata":{
      
     },
     "output_type":"display_data"
    }
   ],
   "metadata":{
    "datalore":{
     "node_id":"NqZ3Ll1aUq7Depmuxflyi1",
     "type":"CODE",
     "hide_input_from_viewers":true,
     "hide_output_from_viewers":true
    }
   }
  },
  {
   "cell_type":"markdown",
   "source":[
    "# **Prepare & Split Data**"
   ],
   "attachments":{
    
   },
   "metadata":{
    "datalore":{
     "node_id":"A1Y2qMwNNcmyz3src7dtzM",
     "type":"MD",
     "hide_input_from_viewers":true,
     "hide_output_from_viewers":true
    }
   }
  },
  {
   "cell_type":"code",
   "source":[
    "# prepare data, 50-80% time\n",
    "\n",
    "X = mtcars[ [\"hp\",\"wt\",\"am\"] ]\n",
    "y = mtcars[\"mpg\"]"
   ],
   "execution_count":14,
   "outputs":[
    
   ],
   "metadata":{
    "datalore":{
     "node_id":"hHjGOdKsjR7vZrACPoAzC5",
     "type":"CODE",
     "hide_input_from_viewers":true,
     "hide_output_from_viewers":true
    }
   }
  },
  {
   "cell_type":"code",
   "source":[
    "# split data 80% train ,20% test\n",
    "X_train, X_test, y_train, y_test = train_test_split(X, y, test_size = 0.2, random_state = 42)"
   ],
   "execution_count":15,
   "outputs":[
    
   ],
   "metadata":{
    "datalore":{
     "node_id":"2r1dF7LLsuD4qUXEnvZnDp",
     "type":"CODE",
     "hide_input_from_viewers":true,
     "hide_output_from_viewers":true
    }
   }
  },
  {
   "cell_type":"markdown",
   "source":[
    "# **Training** Model"
   ],
   "attachments":{
    
   },
   "metadata":{
    "datalore":{
     "node_id":"0PfRJRrvXbgRZF11aXgaCL",
     "type":"MD",
     "hide_input_from_viewers":true,
     "hide_output_from_viewers":true
    }
   }
  },
  {
   "cell_type":"markdown",
   "source":[
    "### **Model** 1: Random Forest Regression"
   ],
   "attachments":{
    
   },
   "metadata":{
    "datalore":{
     "node_id":"vWrgcH0k5v1T5WPAg0Bh89",
     "type":"MD",
     "hide_input_from_viewers":true,
     "hide_output_from_viewers":true
    }
   }
  },
  {
   "cell_type":"code",
   "source":[
    "# train model\n",
    "model = RandomForestRegressor()\n",
    "model.fit(X_train, y_train)\n",
    "\n",
    "\n",
    "# test model\/ scoring\n",
    "pred = model.predict(X_test)\n",
    "pred\n",
    "\n",
    "# Evaluate\n",
    "\n",
    "# MAE mean absolute error\n",
    "mae = np.mean(np.absolute((y_test - pred)))\n",
    "\n",
    "# MSE\n",
    "mse = np.mean((y_test - pred)**2)\n",
    "\n",
    "#--------------------------\n",
    "mse2 = mean_squared_error(y_test, pred)\n",
    "r2 = r2_score(y_test, pred)\n",
    "mae = mean_absolute_error(y_test, pred)\n",
    "\n",
    "# Print the evaluation results\n",
    "print(\"Mean Squared Error:\", mse)\n",
    "print(\"R-squared:\", r2)\n",
    "print(\"Mean Absolute Error:\", mae)\n",
    "print(mae,mse)"
   ],
   "execution_count":16,
   "outputs":[
    {
     "name":"stdout",
     "text":[
      "Mean Squared Error: 9.89594642857138\n",
      "R-squared: 0.7525028455201571\n",
      "Mean Absolute Error: 2.2621428571428503\n",
      "2.2621428571428503 9.89594642857138\n"
     ],
     "output_type":"stream"
    }
   ],
   "metadata":{
    "datalore":{
     "node_id":"inPnzQHBGKnSTbT4aWViaI",
     "type":"CODE",
     "hide_input_from_viewers":true,
     "hide_output_from_viewers":true
    }
   }
  },
  {
   "cell_type":"markdown",
   "source":[
    "### **Model** 2: Linear Regression"
   ],
   "attachments":{
    
   },
   "metadata":{
    "datalore":{
     "node_id":"T7pHsyev1N05XdObyJ36aO",
     "type":"MD",
     "hide_input_from_viewers":true,
     "hide_output_from_viewers":true
    }
   }
  },
  {
   "cell_type":"code",
   "source":[
    "from sklearn.linear_model import LinearRegression\n",
    "from sklearn.metrics import mean_squared_error, r2_score, mean_absolute_error\n",
    "\n",
    "# Train model\n",
    "model = LinearRegression()\n",
    "model.fit(X_train, y_train)\n",
    "\n",
    "# Test model\n",
    "pred = model.predict(X_test)\n",
    "\n",
    "# Evaluate\n",
    "mse = mean_squared_error(y_test, pred)\n",
    "r2 = r2_score(y_test, pred)\n",
    "mae = mean_absolute_error(y_test, pred)\n",
    "\n",
    "# Print the evaluation results\n",
    "print(\"Linear Regression Results:\")\n",
    "print(\"Mean Squared Error:\", mse)\n",
    "print(\"R-squared:\", r2)\n",
    "print(\"Mean Absolute Error:\", mae)"
   ],
   "execution_count":17,
   "outputs":[
    {
     "name":"stdout",
     "text":[
      "Linear Regression Results:\n",
      "Mean Squared Error: 7.319771016726086\n",
      "R-squared: 0.8169328713367676\n",
      "Mean Absolute Error: 2.0710117400488417\n"
     ],
     "output_type":"stream"
    }
   ],
   "metadata":{
    "datalore":{
     "node_id":"oFf1vRh2K2Rcah7bWFu0xB",
     "type":"CODE",
     "hide_input_from_viewers":true,
     "hide_output_from_viewers":true
    }
   }
  },
  {
   "cell_type":"markdown",
   "source":[
    "### **Model** 4: Decision Tree Regression"
   ],
   "attachments":{
    
   },
   "metadata":{
    "datalore":{
     "node_id":"nQ1PKzvpuO62RBvjfRr4qO",
     "type":"MD",
     "hide_input_from_viewers":true,
     "hide_output_from_viewers":true
    }
   }
  },
  {
   "cell_type":"code",
   "source":[
    "from sklearn.tree import DecisionTreeRegressor\n",
    "from sklearn.metrics import mean_squared_error, r2_score, mean_absolute_error\n",
    "\n",
    "# Train model\n",
    "model = DecisionTreeRegressor()\n",
    "model.fit(X_train, y_train)\n",
    "\n",
    "# Test model\n",
    "pred = model.predict(X_test)\n",
    "\n",
    "# Evaluate\n",
    "mse = mean_squared_error(y_test, pred)\n",
    "r2 = r2_score(y_test, pred)\n",
    "mae = mean_absolute_error(y_test, pred)\n",
    "\n",
    "# Print the evaluation results\n",
    "print(\"Decision Tree Regression Results:\")\n",
    "print(\"Mean Squared Error:\", mse)\n",
    "print(\"R-squared:\", r2)\n",
    "print(\"Mean Absolute Error:\", mae)"
   ],
   "execution_count":18,
   "outputs":[
    {
     "name":"stdout",
     "text":[
      "Decision Tree Regression Results:\n",
      "Mean Squared Error: 9.609999999999994\n",
      "R-squared: 0.759654352242219\n",
      "Mean Absolute Error: 2.4714285714285706\n"
     ],
     "output_type":"stream"
    }
   ],
   "metadata":{
    "datalore":{
     "node_id":"Tm8LjUSf2a4dMMXVasCIBI",
     "type":"CODE",
     "hide_input_from_viewers":true,
     "hide_output_from_viewers":true
    }
   }
  },
  {
   "cell_type":"markdown",
   "source":[
    "### Model **5**: Ridge Regression"
   ],
   "attachments":{
    
   },
   "metadata":{
    "datalore":{
     "node_id":"ny72gEn3zq3rO2mheSnjuz",
     "type":"MD",
     "hide_input_from_viewers":true,
     "hide_output_from_viewers":true
    }
   }
  },
  {
   "cell_type":"code",
   "source":[
    "from sklearn.linear_model import Ridge\n",
    "from sklearn.metrics import mean_squared_error, r2_score, mean_absolute_error\n",
    "\n",
    "# Train model\n",
    "model = Ridge()\n",
    "model.fit(X_train, y_train)\n",
    "\n",
    "# Test model\n",
    "pred = model.predict(X_test)\n",
    "\n",
    "# Evaluate\n",
    "mse = mean_squared_error(y_test, pred)\n",
    "r2 = r2_score(y_test, pred)\n",
    "mae = mean_absolute_error(y_test, pred)\n",
    "\n",
    "# Print the evaluation results\n",
    "print(\"Ridge Regression Results:\")\n",
    "print(\"Mean Squared Error:\", mse)\n",
    "print(\"R-squared:\", r2)\n",
    "print(\"Mean Absolute Error:\", mae)"
   ],
   "execution_count":19,
   "outputs":[
    {
     "name":"stdout",
     "text":[
      "Ridge Regression Results:\n",
      "Mean Squared Error: 7.523990690843484\n",
      "R-squared: 0.8118253468975762\n",
      "Mean Absolute Error: 2.060368760565103\n"
     ],
     "output_type":"stream"
    }
   ],
   "metadata":{
    "datalore":{
     "node_id":"XON0aPmRb9uUKgcCBQqroe",
     "type":"CODE",
     "hide_input_from_viewers":true,
     "hide_output_from_viewers":true
    }
   }
  }
 ],
 "metadata":{
  "kernelspec":{
   "display_name":"Python",
   "language":"python",
   "name":"python"
  },
  "datalore":{
   "computation_mode":"JUPYTER",
   "package_manager":"pip",
   "base_environment":"default",
   "packages":[
    
   ],
   "report_row_ids":[
    
   ],
   "version":3
  }
 },
 "nbformat":4,
 "nbformat_minor":4
}