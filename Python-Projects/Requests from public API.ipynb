{
 "cells":[
  {
   "cell_type":"code",
   "source":[
    "import pandas as pd\n",
    "from requests import get\n",
    "\n",
    "nums = list(range(1,11 ))\n",
    "result = []\n",
    "\n",
    "for i in nums:\n",
    "  url = f\"https:\/\/pokeapi.co\/api\/v2\/pokemon\/{i}\"\n",
    "  response = get(url)\n",
    "  if (response.status_code==200):\n",
    "    data = response.json()\n",
    "    if data:\n",
    "      row = [\n",
    "        data[\"id\"],\n",
    "        data[\"name\"],\n",
    "        data[\"height\"],\n",
    "        data[\"weight\"],\n",
    "        data[\"base_experience\"]\n",
    "      ]\n",
    "      result.append(row)\n",
    "    else:\n",
    "      print(f\"No data found of station_id {i}\")\n",
    "  else:\n",
    "    print(f\"Error with {response.status_code}\")\n",
    "\n",
    "print(result)"
   ],
   "execution_count":110,
   "outputs":[
    {
     "name":"stdout",
     "text":[
      "[[1, 'bulbasaur', 7, 69, 64], [2, 'ivysaur', 10, 130, 142], [3, 'venusaur', 20, 1000, 263], [4, 'charmander', 6, 85, 62], [5, 'charmeleon', 11, 190, 142], [6, 'charizard', 17, 905, 267], [7, 'squirtle', 5, 90, 63], [8, 'wartortle', 10, 225, 142], [9, 'blastoise', 16, 855, 265], [10, 'caterpie', 3, 29, 39]]\n"
     ],
     "output_type":"stream"
    }
   ],
   "metadata":{
    "datalore":{
     "node_id":"0TmItyaZZCWD4PdDYzfzow",
     "type":"CODE",
     "hide_input_from_viewers":true,
     "hide_output_from_viewers":true
    }
   }
  },
  {
   "cell_type":"code",
   "source":[
    "df = pd.DataFrame(result, columns = [\"id\", \"name\", \"height\", \"weight\", \"base_experience\"])\n",
    "df"
   ],
   "execution_count":111,
   "outputs":[
    {
     "data":{
      "text\/html":[
       "<div>\n",
       "<style scoped>\n",
       "    .dataframe tbody tr th:only-of-type {\n",
       "        vertical-align: middle;\n",
       "    }\n",
       "\n",
       "    .dataframe tbody tr th {\n",
       "        vertical-align: top;\n",
       "    }\n",
       "\n",
       "    .dataframe thead th {\n",
       "        text-align: right;\n",
       "    }\n",
       "<\/style>\n",
       "<table border=\"1\" class=\"dataframe\">\n",
       "  <thead>\n",
       "    <tr style=\"text-align: right;\">\n",
       "      <th><\/th>\n",
       "      <th>id<\/th>\n",
       "      <th>name<\/th>\n",
       "      <th>height<\/th>\n",
       "      <th>weight<\/th>\n",
       "      <th>base_experience<\/th>\n",
       "    <\/tr>\n",
       "  <\/thead>\n",
       "  <tbody>\n",
       "    <tr>\n",
       "      <th>0<\/th>\n",
       "      <td>1<\/td>\n",
       "      <td>bulbasaur<\/td>\n",
       "      <td>7<\/td>\n",
       "      <td>69<\/td>\n",
       "      <td>64<\/td>\n",
       "    <\/tr>\n",
       "    <tr>\n",
       "      <th>1<\/th>\n",
       "      <td>2<\/td>\n",
       "      <td>ivysaur<\/td>\n",
       "      <td>10<\/td>\n",
       "      <td>130<\/td>\n",
       "      <td>142<\/td>\n",
       "    <\/tr>\n",
       "    <tr>\n",
       "      <th>2<\/th>\n",
       "      <td>3<\/td>\n",
       "      <td>venusaur<\/td>\n",
       "      <td>20<\/td>\n",
       "      <td>1000<\/td>\n",
       "      <td>263<\/td>\n",
       "    <\/tr>\n",
       "    <tr>\n",
       "      <th>3<\/th>\n",
       "      <td>4<\/td>\n",
       "      <td>charmander<\/td>\n",
       "      <td>6<\/td>\n",
       "      <td>85<\/td>\n",
       "      <td>62<\/td>\n",
       "    <\/tr>\n",
       "    <tr>\n",
       "      <th>4<\/th>\n",
       "      <td>5<\/td>\n",
       "      <td>charmeleon<\/td>\n",
       "      <td>11<\/td>\n",
       "      <td>190<\/td>\n",
       "      <td>142<\/td>\n",
       "    <\/tr>\n",
       "    <tr>\n",
       "      <th>5<\/th>\n",
       "      <td>6<\/td>\n",
       "      <td>charizard<\/td>\n",
       "      <td>17<\/td>\n",
       "      <td>905<\/td>\n",
       "      <td>267<\/td>\n",
       "    <\/tr>\n",
       "    <tr>\n",
       "      <th>6<\/th>\n",
       "      <td>7<\/td>\n",
       "      <td>squirtle<\/td>\n",
       "      <td>5<\/td>\n",
       "      <td>90<\/td>\n",
       "      <td>63<\/td>\n",
       "    <\/tr>\n",
       "    <tr>\n",
       "      <th>7<\/th>\n",
       "      <td>8<\/td>\n",
       "      <td>wartortle<\/td>\n",
       "      <td>10<\/td>\n",
       "      <td>225<\/td>\n",
       "      <td>142<\/td>\n",
       "    <\/tr>\n",
       "    <tr>\n",
       "      <th>8<\/th>\n",
       "      <td>9<\/td>\n",
       "      <td>blastoise<\/td>\n",
       "      <td>16<\/td>\n",
       "      <td>855<\/td>\n",
       "      <td>265<\/td>\n",
       "    <\/tr>\n",
       "    <tr>\n",
       "      <th>9<\/th>\n",
       "      <td>10<\/td>\n",
       "      <td>caterpie<\/td>\n",
       "      <td>3<\/td>\n",
       "      <td>29<\/td>\n",
       "      <td>39<\/td>\n",
       "    <\/tr>\n",
       "  <\/tbody>\n",
       "<\/table>\n",
       "<\/div>"
      ]
     },
     "metadata":{
      
     },
     "output_type":"display_data"
    }
   ],
   "metadata":{
    "datalore":{
     "node_id":"rkbqL1JX5rvb2p4KJwESI5",
     "type":"CODE",
     "hide_input_from_viewers":true,
     "hide_output_from_viewers":true
    }
   }
  },
  {
   "cell_type":"code",
   "source":[
    "df.to_csv(\"Pokemon.csv\")"
   ],
   "execution_count":82,
   "outputs":[
    
   ],
   "metadata":{
    "datalore":{
     "node_id":"RGqiB6P2NCcptqCrH8gJ99",
     "type":"CODE",
     "hide_input_from_viewers":true,
     "hide_output_from_viewers":true
    }
   }
  },
  {
   "cell_type":"code",
   "source":[
    "data.keys()"
   ],
   "execution_count":83,
   "outputs":[
    {
     "data":{
      "text\/plain":[
       "dict_keys(['abilities', 'base_experience', 'forms', 'game_indices', 'height', 'held_items', 'id', 'is_default', 'location_area_encounters', 'moves', 'name', 'order', 'past_abilities', 'past_types', 'species', 'sprites', 'stats', 'types', 'weight'])"
      ]
     },
     "metadata":{
      
     },
     "output_type":"display_data"
    }
   ],
   "metadata":{
    "datalore":{
     "node_id":"Sda5TYz9359EolTgrfUqXy",
     "type":"CODE",
     "hide_input_from_viewers":true,
     "hide_output_from_viewers":true
    }
   }
  }
 ],
 "metadata":{
  "kernelspec":{
   "display_name":"Python",
   "language":"python",
   "name":"python"
  },
  "datalore":{
   "computation_mode":"JUPYTER",
   "package_manager":"pip",
   "base_environment":"default",
   "packages":[
    
   ],
   "report_row_ids":[
    
   ],
   "version":3
  }
 },
 "nbformat":4,
 "nbformat_minor":4
}