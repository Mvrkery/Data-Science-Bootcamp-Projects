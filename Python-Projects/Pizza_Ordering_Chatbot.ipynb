{
  "nbformat": 4,
  "nbformat_minor": 0,
  "metadata": {
    "colab": {
      "provenance": []
    },
    "kernelspec": {
      "name": "python3",
      "display_name": "Python 3"
    },
    "language_info": {
      "name": "python"
    }
  },
  "cells": [
    {
      "cell_type": "code",
      "execution_count": 1,
      "metadata": {
        "colab": {
          "base_uri": "https://localhost:8080/"
        },
        "id": "ZKJjFl5bbKTV",
        "outputId": "c2342edb-377c-4a7c-9fcb-7e13da789085"
      },
      "outputs": [
        {
          "output_type": "stream",
          "name": "stdout",
          "text": [
            "Hello and Welcome to PizzaBot! Would you like to order a pizza?\n",
            "Type 'yes' to order or type 'exit' to exit the program\n",
            "yes\n",
            "Chatbot: Great! What size of pizza would you like: Small, Medium, Large?\n",
            "large\n",
            "Chatbot: Awesome! You've selected a LARGE pizza. What toppings would you like?\n",
            "cheese\n",
            "Chatbot: Noted! Please type 'done' when you've finished choosing toppings.\n",
            "shrimp\n",
            "Chatbot: Noted! Please type 'done' when you've finished choosing toppings.\n",
            "done\n",
            "Chatbot: Your LARGE pizza with shrimp will be prepared. Is that okay? (Yes/No)\n",
            "sure\n",
            "Chatbot: Thank you for your order! Your pizza will be delivered shortly.\n"
          ]
        }
      ],
      "source": [
        "def pizza_chatbot():\n",
        "    print(\"Hello and Welcome to PizzaBot! Would you like to order a pizza?\")\n",
        "    print(\"Type 'yes' to order or type 'exit' to exit the program\")\n",
        "\n",
        "    state = \"order\"\n",
        "    size = \"\"\n",
        "    toppings = \"\"\n",
        "\n",
        "    while True:\n",
        "        text = input()\n",
        "\n",
        "        if text.lower() == \"exit\":\n",
        "            print(\"Chatbot: Thank you for considering PizzaBot. Feel free to order again when you're ready. Have a great day!\")\n",
        "            break\n",
        "\n",
        "        if state == \"order\":\n",
        "            if any(keyword in text.lower() for keyword in [\"yes\", \"yeah\", \"sure\", \"yep\"]):\n",
        "                print(\"Chatbot: Great! What size of pizza would you like: Small, Medium, Large?\")\n",
        "                state = \"size\"\n",
        "            else:\n",
        "                print(\"Chatbot: I'm sorry, I didn't understand. Would you like to order a pizza? (Yes/No)\")\n",
        "        elif state == \"size\":\n",
        "            if any(keyword in text.lower() for keyword in [\"small\", \"medium\", \"large\"]):\n",
        "                size = text.upper()\n",
        "                print(f\"Chatbot: Awesome! You've selected a {size} pizza. What toppings would you like?\")\n",
        "                state = \"toppings\"\n",
        "            else:\n",
        "                print(\"Chatbot: I'm sorry, I didn't catch that. Please choose a pizza size: Small, Medium, or Large.\")\n",
        "        elif state == \"toppings\":\n",
        "            if \"done\" in text.lower():\n",
        "                if toppings == \"\":\n",
        "                    print(f\"Chatbot: Your pizza with no toppings will be prepared. Is that okay? (Yes/No)\")\n",
        "                else:\n",
        "                    print(f\"Chatbot: Your {size} pizza with {toppings} will be prepared. Is that okay? (Yes/No)\")\n",
        "                state = \"confirmation\"\n",
        "            else:\n",
        "                toppings = text\n",
        "                print(\"Chatbot: Noted! Please type 'done' when you've finished choosing toppings.\")\n",
        "        elif state == \"confirmation\":\n",
        "            if any(keyword in text.lower() for keyword in [\"yes\", \"yeah\", \"sure\"]):\n",
        "                print(\"Chatbot: Thank you for your order! Your pizza will be delivered shortly.\")\n",
        "                break\n",
        "            elif any(keyword in text.lower() for keyword in [\"no\", \"nope\", \"nah\"]):\n",
        "                print(\"Chatbot: Alright, your order has been canceled. Feel free to order again when you're ready.\")\n",
        "                break\n",
        "            else:\n",
        "                print(\"Chatbot: I'm sorry, I didn't catch that. Please respond with 'yes' or 'no'.\")\n",
        "\n",
        "pizza_chatbot()\n"
      ]
    }
  ]
}