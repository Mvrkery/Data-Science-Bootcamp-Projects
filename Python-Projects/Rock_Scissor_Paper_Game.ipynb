{
  "nbformat": 4,
  "nbformat_minor": 0,
  "metadata": {
    "colab": {
      "provenance": []
    },
    "kernelspec": {
      "name": "python3",
      "display_name": "Python 3"
    },
    "language_info": {
      "name": "python"
    }
  },
  "cells": [
    {
      "cell_type": "code",
      "execution_count": 1,
      "metadata": {
        "colab": {
          "base_uri": "https://localhost:8080/"
        },
        "id": "QuFgDGVzclb6",
        "outputId": "3d4de422-cb05-46da-879c-a9e4b27dd2bd"
      },
      "outputs": [
        {
          "output_type": "stream",
          "name": "stdout",
          "text": [
            "Welcome to Rock Paper Scissors Game!\n",
            "Type 'exit' to exit the game\n",
            "What's your name? Mark\n",
            "Great! Let's get started, Mark!\n",
            "['rock', 'scissor', 'paper']\n",
            "rock\n",
            "Computer chose: rock\n",
            "It's a tie!\n",
            "paper\n",
            "Computer chose: rock\n",
            "You win!\n",
            "scissor\n",
            "Computer chose: rock\n",
            "Computer wins!\n",
            "exit\n",
            "Game over\n",
            "Wins: 1, Losses: 1, Ties: 1\n"
          ]
        }
      ],
      "source": [
        "import random\n",
        "\n",
        "def play_game():\n",
        "    print(\"Welcome to Rock Paper Scissors Game!\")\n",
        "    print(\"Type 'exit' to exit the game\")\n",
        "    user_name = input(\"What's your name? \")\n",
        "    print(f\"Great! Let's get started, {user_name}!\")\n",
        "\n",
        "    options = [\"rock\", \"scissor\", \"paper\"]\n",
        "    print(options)\n",
        "\n",
        "    user_wins = 0\n",
        "    computer_wins = 0\n",
        "    ties = 0\n",
        "\n",
        "    while True:\n",
        "        user_select = input()\n",
        "\n",
        "        if user_select in [\"quit\", \"exit\", \"q\"]:\n",
        "            break\n",
        "\n",
        "        if user_select in options:\n",
        "            computer_select = random.choice(options)\n",
        "            print(f\"Computer chose: {computer_select}\")\n",
        "\n",
        "            if user_select == computer_select:\n",
        "                print(\"It's a tie!\")\n",
        "                ties += 1\n",
        "            elif (\n",
        "                (user_select == \"rock\" and computer_select == \"scissor\") or\n",
        "                (user_select == \"scissor\" and computer_select == \"paper\") or\n",
        "                (user_select == \"paper\" and computer_select == \"rock\")\n",
        "            ):\n",
        "                print(\"You win!\")\n",
        "                user_wins += 1\n",
        "            else:\n",
        "                print(\"Computer wins!\")\n",
        "                computer_wins += 1\n",
        "        else:\n",
        "            print(\"Invalid choice. Please choose from 'rock', 'scissor', or 'paper'.\")\n",
        "\n",
        "    print(\"Game over\")\n",
        "    print(f\"Wins: {user_wins}, Losses: {computer_wins}, Ties: {ties}\")\n",
        "\n",
        "play_game()\n"
      ]
    }
  ]
}